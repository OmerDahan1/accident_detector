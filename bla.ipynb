{
 "cells": [
  {
   "cell_type": "code",
   "execution_count": 1,
   "id": "initial_id",
   "metadata": {
    "collapsed": true,
    "ExecuteTime": {
     "end_time": "2024-03-23T13:26:28.554395Z",
     "start_time": "2024-03-23T13:26:13.128451Z"
    }
   },
   "outputs": [
    {
     "name": "stderr",
     "output_type": "stream",
     "text": [
      "Downloading...\n",
      "From (original): https://drive.google.com/uc?id=1-8TyT7MkAS7LLsRTbO03tDsuuoBM6q1D\n",
      "From (redirected): https://drive.google.com/uc?id=1-8TyT7MkAS7LLsRTbO03tDsuuoBM6q1D&confirm=t&uuid=b7dd8bd4-fec3-48bd-8863-98ffdd67ad39\n",
      "To: /Users/tomer.shukhman/dev/accident_detector/model_ft.pth\n",
      "100%|██████████| 133M/133M [00:13<00:00, 9.71MB/s] \n"
     ]
    },
    {
     "data": {
      "text/plain": "'model_ft.pth'"
     },
     "execution_count": 1,
     "metadata": {},
     "output_type": "execute_result"
    }
   ],
   "source": [
    "import gdown\n",
    "url = 'https://drive.google.com/uc?id=1-8TyT7MkAS7LLsRTbO03tDsuuoBM6q1D'\n",
    "model = 'model_ft.pth'\n",
    "gdown.download(url, model, quiet=False)"
   ]
  },
  {
   "cell_type": "code",
   "outputs": [],
   "source": [
    "from car_crash_detection import CrashUtils\n",
    "inputPath=\"videos/test.mp4\"\n",
    "\n",
    "# Run the Below Function by Input your Test Video Path to get the outPut Video with Accident Detection or Not\n",
    "CrashUtils.crashDetection(inputPath,CrashUtils.SEQUENCE_LENGTH,skip,outputPath,showInfo=False,thresholding=0.75)"
   ],
   "metadata": {
    "collapsed": false
   },
   "id": "6094780f875478f5"
  }
 ],
 "metadata": {
  "kernelspec": {
   "display_name": "Python 3",
   "language": "python",
   "name": "python3"
  },
  "language_info": {
   "codemirror_mode": {
    "name": "ipython",
    "version": 2
   },
   "file_extension": ".py",
   "mimetype": "text/x-python",
   "name": "python",
   "nbconvert_exporter": "python",
   "pygments_lexer": "ipython2",
   "version": "2.7.6"
  }
 },
 "nbformat": 4,
 "nbformat_minor": 5
}
